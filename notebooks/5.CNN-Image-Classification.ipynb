{
 "cells": [
  {
   "cell_type": "markdown",
   "metadata": {},
   "source": [
    "# 第五课 CNN图像分类\n",
    "\n",
    "褚则伟 zeweichu@gmail.com\n",
    "\n",
    "参考资料\n",
    "- [Stanford CS231n](http://cs231n.github.io/convolutional-networks/)\n",
    "- [AlexNet](http://papers.nips.cc/paper/4824-imagenet-classification-with-deep-convolutional-neural-networks.pdf)\n",
    "- [VGG](https://arxiv.org/pdf/1409.1556.pdf)\n",
    "- [ResNet](https://arxiv.org/pdf/1512.03385.pdf)\n",
    "- [DenseNet](https://arxiv.org/pdf/1608.06993.pdf)\n",
    "\n"
   ]
  },
  {
   "cell_type": "code",
   "execution_count": 1,
   "metadata": {},
   "outputs": [
    {
     "name": "stdout",
     "output_type": "stream",
     "text": [
      "PyTorch Version:  1.6.0+cpu\n"
     ]
    }
   ],
   "source": [
    "import numpy as np\n",
    "import torch\n",
    "import torch.nn as nn\n",
    "import torch.nn.functional as F\n",
    "import torch.optim as optim\n",
    "from torchvision import datasets, transforms\n",
    "print(\"PyTorch Version: \",torch.__version__)"
   ]
  },
  {
   "cell_type": "markdown",
   "metadata": {},
   "source": [
    "首先我们定义一个基于ConvNet的简单神经网络"
   ]
  },
  {
   "cell_type": "code",
   "execution_count": 2,
   "metadata": {},
   "outputs": [],
   "source": [
    "class Net(nn.Module):\n",
    "    def __init__(self):\n",
    "        super(Net, self).__init__()\n",
    "        self.conv1 = nn.Conv2d(1, 20, 5, 1) # 28 * 28 -> (28+1-5) 24 * 24\n",
    "        self.conv2 = nn.Conv2d(20, 50, 5, 1) # 20 * 20\n",
    "        self.fc1 = nn.Linear(4*4*50, 500)\n",
    "        self.fc2 = nn.Linear(500, 10)\n",
    "        \n",
    "    def forward(self, x):\n",
    "        # x: 1 * 28 * 28\n",
    "        x = F.relu(self.conv1(x)) # 20 * 24 * 24\n",
    "        x = F.max_pool2d(x,2,2) # 12 * 12\n",
    "        x = F.relu(self.conv2(x)) # 8 * 8\n",
    "        x = F.max_pool2d(x,2,2) # 4 *4 \n",
    "        x = x.view(-1, 4*4*50) # reshape (5 * 2 * 10), view(5, 20) -> (5 * 20)\n",
    "        x = F.relu(self.fc1(x))\n",
    "        x= self.fc2(x)\n",
    "        # return x\n",
    "        return F.log_softmax(x, dim=1) # log probability\n",
    "        "
   ]
  },
  {
   "cell_type": "code",
   "execution_count": 3,
   "metadata": {},
   "outputs": [
    {
     "name": "stdout",
     "output_type": "stream",
     "text": [
      "Downloading http://yann.lecun.com/exdb/mnist/train-images-idx3-ubyte.gz to ./mnist_data\\MNIST\\raw\\train-images-idx3-ubyte.gz\n"
     ]
    },
    {
     "data": {
      "application/vnd.jupyter.widget-view+json": {
       "model_id": "69b8e34ff66c4c0d853b531377960dc9",
       "version_major": 2,
       "version_minor": 0
      },
      "text/plain": [
       "HBox(children=(FloatProgress(value=1.0, bar_style='info', layout=Layout(width='20px'), max=1.0), HTML(value=''…"
      ]
     },
     "metadata": {},
     "output_type": "display_data"
    },
    {
     "name": "stdout",
     "output_type": "stream",
     "text": [
      "Extracting ./mnist_data\\MNIST\\raw\\train-images-idx3-ubyte.gz to ./mnist_data\\MNIST\\raw\n",
      "Downloading http://yann.lecun.com/exdb/mnist/train-labels-idx1-ubyte.gz to ./mnist_data\\MNIST\\raw\\train-labels-idx1-ubyte.gz\n"
     ]
    },
    {
     "data": {
      "application/vnd.jupyter.widget-view+json": {
       "model_id": "58b2fd163c3141788baf50f5cce618e9",
       "version_major": 2,
       "version_minor": 0
      },
      "text/plain": [
       "HBox(children=(FloatProgress(value=1.0, bar_style='info', layout=Layout(width='20px'), max=1.0), HTML(value=''…"
      ]
     },
     "metadata": {},
     "output_type": "display_data"
    },
    {
     "name": "stdout",
     "output_type": "stream",
     "text": [
      "Extracting ./mnist_data\\MNIST\\raw\\train-labels-idx1-ubyte.gz to ./mnist_data\\MNIST\\raw\n",
      "Downloading http://yann.lecun.com/exdb/mnist/t10k-images-idx3-ubyte.gz to ./mnist_data\\MNIST\\raw\\t10k-images-idx3-ubyte.gz\n",
      "\n"
     ]
    },
    {
     "data": {
      "application/vnd.jupyter.widget-view+json": {
       "model_id": "4c35139b6b814becab8547a1cb409a6c",
       "version_major": 2,
       "version_minor": 0
      },
      "text/plain": [
       "HBox(children=(FloatProgress(value=1.0, bar_style='info', layout=Layout(width='20px'), max=1.0), HTML(value=''…"
      ]
     },
     "metadata": {},
     "output_type": "display_data"
    },
    {
     "name": "stdout",
     "output_type": "stream",
     "text": [
      "Extracting ./mnist_data\\MNIST\\raw\\t10k-images-idx3-ubyte.gz to ./mnist_data\\MNIST\\raw\n",
      "Downloading http://yann.lecun.com/exdb/mnist/t10k-labels-idx1-ubyte.gz to ./mnist_data\\MNIST\\raw\\t10k-labels-idx1-ubyte.gz\n"
     ]
    },
    {
     "data": {
      "application/vnd.jupyter.widget-view+json": {
       "model_id": "fd45426ad4b542729f41c066c584cc6b",
       "version_major": 2,
       "version_minor": 0
      },
      "text/plain": [
       "HBox(children=(FloatProgress(value=1.0, bar_style='info', layout=Layout(width='20px'), max=1.0), HTML(value=''…"
      ]
     },
     "metadata": {},
     "output_type": "display_data"
    },
    {
     "name": "stdout",
     "output_type": "stream",
     "text": [
      "Extracting ./mnist_data\\MNIST\\raw\\t10k-labels-idx1-ubyte.gz to ./mnist_data\\MNIST\\raw\n",
      "Processing...\n"
     ]
    },
    {
     "name": "stderr",
     "output_type": "stream",
     "text": [
      "C:\\Users\\Administrator\\AppData\\Local\\Programs\\Python\\Python36\\lib\\site-packages\\torchvision\\datasets\\mnist.py:439: UserWarning: The given NumPy array is not writeable, and PyTorch does not support non-writeable tensors. This means you can write to the underlying (supposedly non-writeable) NumPy array using the tensor. You may want to copy the array to protect its data or make it writeable before converting it to a tensor. This type of warning will be suppressed for the rest of this program. (Triggered internally at  ..\\torch\\csrc\\utils\\tensor_numpy.cpp:141.)\n",
      "  return torch.from_numpy(parsed.astype(m[2], copy=False)).view(*s)\n"
     ]
    },
    {
     "name": "stdout",
     "output_type": "stream",
     "text": [
      "Done!\n"
     ]
    },
    {
     "data": {
      "text/plain": [
       "Dataset MNIST\n",
       "    Number of datapoints: 60000\n",
       "    Root location: ./mnist_data\n",
       "    Split: Train\n",
       "    StandardTransform\n",
       "Transform: Compose(\n",
       "               ToTensor()\n",
       "           )"
      ]
     },
     "execution_count": 3,
     "metadata": {},
     "output_type": "execute_result"
    }
   ],
   "source": [
    "mnist_data = datasets.MNIST(\"./mnist_data\", train=True, download=True,\n",
    "                           transform=transforms.Compose([\n",
    "                               transforms.ToTensor(),\n",
    "                           ]))\n",
    "mnist_data"
   ]
  },
  {
   "cell_type": "code",
   "execution_count": 4,
   "metadata": {},
   "outputs": [
    {
     "name": "stdout",
     "output_type": "stream",
     "text": [
      "\n",
      "\n",
      "\n"
     ]
    }
   ],
   "source": [
    "data = [d[0].data.cpu().numpy() for d in mnist_data]"
   ]
  },
  {
   "cell_type": "code",
   "execution_count": 5,
   "metadata": {},
   "outputs": [
    {
     "data": {
      "text/plain": [
       "0.13066062"
      ]
     },
     "execution_count": 5,
     "metadata": {},
     "output_type": "execute_result"
    }
   ],
   "source": [
    "np.mean(data)"
   ]
  },
  {
   "cell_type": "code",
   "execution_count": 6,
   "metadata": {},
   "outputs": [
    {
     "data": {
      "text/plain": [
       "0.30810776"
      ]
     },
     "execution_count": 6,
     "metadata": {},
     "output_type": "execute_result"
    }
   ],
   "source": [
    "np.std(data)"
   ]
  },
  {
   "cell_type": "code",
   "execution_count": 7,
   "metadata": {
    "scrolled": true
   },
   "outputs": [
    {
     "data": {
      "text/plain": [
       "torch.Size([1, 28, 28])"
      ]
     },
     "execution_count": 7,
     "metadata": {},
     "output_type": "execute_result"
    }
   ],
   "source": [
    "mnist_data[223][0].shape"
   ]
  },
  {
   "cell_type": "code",
   "execution_count": 25,
   "metadata": {},
   "outputs": [],
   "source": [
    "def train(model, device, train_loader, optimizer, epoch):\n",
    "    model.train()\n",
    "    for idx, (data, target) in enumerate(train_loader):\n",
    "        data, target = data.to(device), target.to(device)\n",
    "\n",
    "        pred = model(data) # batch_size * 10\n",
    "        loss = F.nll_loss(pred, target) \n",
    "        # SGD\n",
    "        optimizer.zero_grad()\n",
    "        loss.backward()\n",
    "        optimizer.step()\n",
    "        \n",
    "        if idx % 100 == 0:\n",
    "            print(\"Train Epoch: {}, iteration: {}, Loss: {}\".format(\n",
    "                epoch, idx, loss.item()))"
   ]
  },
  {
   "cell_type": "code",
   "execution_count": 26,
   "metadata": {},
   "outputs": [],
   "source": [
    "def test(model, device, test_loader):\n",
    "    model.eval()\n",
    "    total_loss = 0.\n",
    "    correct = 0.\n",
    "    with torch.no_grad():\n",
    "        for idx, (data, target) in enumerate(test_loader):\n",
    "            data, target = data.to(device), target.to(device)\n",
    "\n",
    "            output = model(data) # batch_size * 10\n",
    "            total_loss += F.nll_loss(output, target, reduction=\"sum\").item() \n",
    "            pred = output.argmax(dim=1) # batch_size * 1\n",
    "            correct += pred.eq(target.view_as(pred)).sum().item()\n",
    "            \n",
    "\n",
    "    total_loss /= len(test_loader.dataset)\n",
    "    acc = correct/len(test_loader.dataset) * 100.\n",
    "    print(\"Test loss: {}, Accuracy: {}\".format(total_loss, acc))"
   ]
  },
  {
   "cell_type": "code",
   "execution_count": 27,
   "metadata": {},
   "outputs": [
    {
     "name": "stdout",
     "output_type": "stream",
     "text": [
      "Train Epoch: 0, iteration: 0, Loss: 2.274648427963257\n",
      "Train Epoch: 0, iteration: 100, Loss: 0.6878238320350647\n",
      "Train Epoch: 0, iteration: 200, Loss: 0.2953164577484131\n",
      "Train Epoch: 0, iteration: 300, Loss: 0.22122417390346527\n",
      "Train Epoch: 0, iteration: 400, Loss: 0.22704191505908966\n",
      "Train Epoch: 0, iteration: 500, Loss: 0.08559998869895935\n",
      "Train Epoch: 0, iteration: 600, Loss: 0.20863865315914154\n",
      "Train Epoch: 0, iteration: 700, Loss: 0.08876547962427139\n",
      "Train Epoch: 0, iteration: 800, Loss: 0.04532196372747421\n",
      "Train Epoch: 0, iteration: 900, Loss: 0.04234253987669945\n",
      "Train Epoch: 0, iteration: 1000, Loss: 0.14359280467033386\n",
      "Train Epoch: 0, iteration: 1100, Loss: 0.05503416061401367\n",
      "Train Epoch: 0, iteration: 1200, Loss: 0.06813803315162659\n",
      "Train Epoch: 0, iteration: 1300, Loss: 0.14688178896903992\n",
      "Train Epoch: 0, iteration: 1400, Loss: 0.05591011792421341\n",
      "Train Epoch: 0, iteration: 1500, Loss: 0.048530545085668564\n",
      "Train Epoch: 0, iteration: 1600, Loss: 0.22212371230125427\n",
      "Train Epoch: 0, iteration: 1700, Loss: 0.2198197990655899\n",
      "Train Epoch: 0, iteration: 1800, Loss: 0.31192249059677124\n",
      "Test loss: 0.07025664668306708, Accuracy: 97.72\n",
      "Train Epoch: 1, iteration: 0, Loss: 0.26019883155822754\n",
      "Train Epoch: 1, iteration: 100, Loss: 0.24575220048427582\n",
      "Train Epoch: 1, iteration: 200, Loss: 0.02321447618305683\n",
      "Train Epoch: 1, iteration: 300, Loss: 0.04004604369401932\n",
      "Train Epoch: 1, iteration: 400, Loss: 0.08470284193754196\n",
      "Train Epoch: 1, iteration: 500, Loss: 0.044700633734464645\n",
      "Train Epoch: 1, iteration: 600, Loss: 0.005746633745729923\n",
      "Train Epoch: 1, iteration: 700, Loss: 0.0862753689289093\n",
      "Train Epoch: 1, iteration: 800, Loss: 0.059707161039114\n",
      "Train Epoch: 1, iteration: 900, Loss: 0.03415273129940033\n",
      "Train Epoch: 1, iteration: 1000, Loss: 0.013546427711844444\n",
      "Train Epoch: 1, iteration: 1100, Loss: 0.031033797189593315\n",
      "Train Epoch: 1, iteration: 1200, Loss: 0.11296149343252182\n",
      "Train Epoch: 1, iteration: 1300, Loss: 0.006148328073322773\n",
      "Train Epoch: 1, iteration: 1400, Loss: 0.020819606259465218\n",
      "Train Epoch: 1, iteration: 1500, Loss: 0.09857963025569916\n",
      "Train Epoch: 1, iteration: 1600, Loss: 0.03663754463195801\n",
      "Train Epoch: 1, iteration: 1700, Loss: 0.028988443315029144\n",
      "Train Epoch: 1, iteration: 1800, Loss: 0.04294905066490173\n",
      "Test loss: 0.04627489897757769, Accuracy: 98.47\n"
     ]
    }
   ],
   "source": [
    "device = torch.device(\"cuda\" if torch.cuda.is_available() else \"cpu\")\n",
    "batch_size = 32\n",
    "train_dataloader = torch.utils.data.DataLoader(\n",
    "    datasets.MNIST(\"./mnist_data\", train=True, download=True,\n",
    "           transform=transforms.Compose([\n",
    "               transforms.ToTensor(),\n",
    "               transforms.Normalize((0.1307,), (0.3081,))\n",
    "           ])),\n",
    "    batch_size=batch_size, shuffle=True, \n",
    "    num_workers=1, pin_memory=True\n",
    ")\n",
    "test_dataloader = torch.utils.data.DataLoader(\n",
    "    datasets.MNIST(\"./mnist_data\", train=False, download=True,\n",
    "           transform=transforms.Compose([\n",
    "               transforms.ToTensor(),\n",
    "               transforms.Normalize((0.1307,), (0.3081,))\n",
    "           ])),\n",
    "    batch_size=batch_size, shuffle=True, \n",
    "    num_workers=1, pin_memory=True\n",
    ")\n",
    "\n",
    "lr = 0.01\n",
    "momentum  = 0.5\n",
    "model = Net().to(device)\n",
    "optimizer = torch.optim.SGD(model.parameters(), lr=lr, momentum=momentum)\n",
    "\n",
    "num_epochs = 2\n",
    "for epoch in range(num_epochs):\n",
    "    train(model, device, train_dataloader, optimizer, epoch)\n",
    "    test(model, device, test_dataloader)\n",
    "    \n",
    "torch.save(model.state_dict(), \"mnist_cnn.pt\")"
   ]
  },
  {
   "cell_type": "markdown",
   "metadata": {},
   "source": [
    "NLL loss的定义\n",
    "\n",
    "$\\ell(x, y) = L = \\{l_1,\\dots,l_N\\}^\\top, \\quad\n",
    "        l_n = - w_{y_n} x_{n,y_n}, \\quad\n",
    "        w_{c} = \\text{weight}[c] \\cdot \\mathbb{1}\\{c \\not= \\text{ignore\\_index}\\}$"
   ]
  },
  {
   "cell_type": "code",
   "execution_count": 28,
   "metadata": {},
   "outputs": [
    {
     "name": "stdout",
     "output_type": "stream",
     "text": [
      "Downloading http://fashion-mnist.s3-website.eu-central-1.amazonaws.com/train-images-idx3-ubyte.gz to ./fashion_mnist_data\\FashionMNIST\\raw\\train-images-idx3-ubyte.gz\n"
     ]
    },
    {
     "data": {
      "application/vnd.jupyter.widget-view+json": {
       "model_id": "d18faad4602d4e3a84c451670c234712",
       "version_major": 2,
       "version_minor": 0
      },
      "text/plain": [
       "HBox(children=(FloatProgress(value=1.0, bar_style='info', layout=Layout(width='20px'), max=1.0), HTML(value=''…"
      ]
     },
     "metadata": {},
     "output_type": "display_data"
    },
    {
     "name": "stdout",
     "output_type": "stream",
     "text": [
      "Extracting ./fashion_mnist_data\\FashionMNIST\\raw\\train-images-idx3-ubyte.gz to ./fashion_mnist_data\\FashionMNIST\\raw\n",
      "Downloading http://fashion-mnist.s3-website.eu-central-1.amazonaws.com/train-labels-idx1-ubyte.gz to ./fashion_mnist_data\\FashionMNIST\\raw\\train-labels-idx1-ubyte.gz\n",
      "\n"
     ]
    },
    {
     "data": {
      "application/vnd.jupyter.widget-view+json": {
       "model_id": "58e2011d812c41a1836e39295799d76c",
       "version_major": 2,
       "version_minor": 0
      },
      "text/plain": [
       "HBox(children=(FloatProgress(value=1.0, bar_style='info', layout=Layout(width='20px'), max=1.0), HTML(value=''…"
      ]
     },
     "metadata": {},
     "output_type": "display_data"
    },
    {
     "name": "stdout",
     "output_type": "stream",
     "text": [
      "Extracting ./fashion_mnist_data\\FashionMNIST\\raw\\train-labels-idx1-ubyte.gz to ./fashion_mnist_data\\FashionMNIST\\raw\n",
      "Downloading http://fashion-mnist.s3-website.eu-central-1.amazonaws.com/t10k-images-idx3-ubyte.gz to ./fashion_mnist_data\\FashionMNIST\\raw\\t10k-images-idx3-ubyte.gz\n"
     ]
    },
    {
     "data": {
      "application/vnd.jupyter.widget-view+json": {
       "model_id": "f9a8ee4f516f42fc80f9c4475b9d1994",
       "version_major": 2,
       "version_minor": 0
      },
      "text/plain": [
       "HBox(children=(FloatProgress(value=1.0, bar_style='info', layout=Layout(width='20px'), max=1.0), HTML(value=''…"
      ]
     },
     "metadata": {},
     "output_type": "display_data"
    },
    {
     "name": "stdout",
     "output_type": "stream",
     "text": [
      "Extracting ./fashion_mnist_data\\FashionMNIST\\raw\\t10k-images-idx3-ubyte.gz to ./fashion_mnist_data\\FashionMNIST\\raw\n",
      "Downloading http://fashion-mnist.s3-website.eu-central-1.amazonaws.com/t10k-labels-idx1-ubyte.gz to ./fashion_mnist_data\\FashionMNIST\\raw\\t10k-labels-idx1-ubyte.gz\n"
     ]
    },
    {
     "data": {
      "application/vnd.jupyter.widget-view+json": {
       "model_id": "a74b8662748f47f4b52cde2d8d101aa2",
       "version_major": 2,
       "version_minor": 0
      },
      "text/plain": [
       "HBox(children=(FloatProgress(value=1.0, bar_style='info', layout=Layout(width='20px'), max=1.0), HTML(value=''…"
      ]
     },
     "metadata": {},
     "output_type": "display_data"
    },
    {
     "name": "stdout",
     "output_type": "stream",
     "text": [
      "Extracting ./fashion_mnist_data\\FashionMNIST\\raw\\t10k-labels-idx1-ubyte.gz to ./fashion_mnist_data\\FashionMNIST\\raw\n",
      "Processing...\n",
      "Done!\n",
      "Train Epoch: 0, iteration: 0, Loss: 2.3158318996429443\n",
      "Train Epoch: 0, iteration: 100, Loss: 0.9533637166023254\n",
      "Train Epoch: 0, iteration: 200, Loss: 0.7761961817741394\n",
      "Train Epoch: 0, iteration: 300, Loss: 0.5376157760620117\n",
      "Train Epoch: 0, iteration: 400, Loss: 0.49706557393074036\n",
      "Train Epoch: 0, iteration: 500, Loss: 0.8989729285240173\n",
      "Train Epoch: 0, iteration: 600, Loss: 0.5423708558082581\n",
      "Train Epoch: 0, iteration: 700, Loss: 0.9565457701683044\n",
      "Train Epoch: 0, iteration: 800, Loss: 0.430941641330719\n",
      "Train Epoch: 0, iteration: 900, Loss: 0.389354407787323\n",
      "Train Epoch: 0, iteration: 1000, Loss: 0.8490481376647949\n",
      "Train Epoch: 0, iteration: 1100, Loss: 0.5982897877693176\n",
      "Train Epoch: 0, iteration: 1200, Loss: 0.6555465459823608\n",
      "Train Epoch: 0, iteration: 1300, Loss: 0.6437416076660156\n",
      "Train Epoch: 0, iteration: 1400, Loss: 0.33132293820381165\n",
      "Train Epoch: 0, iteration: 1500, Loss: 0.34807467460632324\n",
      "Train Epoch: 0, iteration: 1600, Loss: 0.4591503143310547\n",
      "Train Epoch: 0, iteration: 1700, Loss: 0.4871937930583954\n",
      "Train Epoch: 0, iteration: 1800, Loss: 0.3535432815551758\n",
      "Test loss: 0.458655645942688, Accuracy: 83.1\n",
      "Train Epoch: 1, iteration: 0, Loss: 0.18006564676761627\n",
      "Train Epoch: 1, iteration: 100, Loss: 0.5929604172706604\n",
      "Train Epoch: 1, iteration: 200, Loss: 0.6694310903549194\n",
      "Train Epoch: 1, iteration: 300, Loss: 0.3510897755622864\n",
      "Train Epoch: 1, iteration: 400, Loss: 0.31252920627593994\n",
      "Train Epoch: 1, iteration: 500, Loss: 0.2555354833602905\n",
      "Train Epoch: 1, iteration: 600, Loss: 0.19950249791145325\n",
      "Train Epoch: 1, iteration: 700, Loss: 0.46013256907463074\n",
      "Train Epoch: 1, iteration: 800, Loss: 0.6003265976905823\n",
      "Train Epoch: 1, iteration: 900, Loss: 0.20505309104919434\n",
      "Train Epoch: 1, iteration: 1000, Loss: 0.29066002368927\n",
      "Train Epoch: 1, iteration: 1100, Loss: 0.1629837155342102\n",
      "Train Epoch: 1, iteration: 1200, Loss: 0.5701938271522522\n",
      "Train Epoch: 1, iteration: 1300, Loss: 0.19396249949932098\n",
      "Train Epoch: 1, iteration: 1400, Loss: 0.4497762620449066\n",
      "Train Epoch: 1, iteration: 1500, Loss: 0.7492763996124268\n",
      "Train Epoch: 1, iteration: 1600, Loss: 0.24691545963287354\n",
      "Train Epoch: 1, iteration: 1700, Loss: 0.5603888630867004\n",
      "Train Epoch: 1, iteration: 1800, Loss: 0.0833992287516594\n",
      "Test loss: 0.36314523568153384, Accuracy: 86.55000000000001\n"
     ]
    }
   ],
   "source": [
    "device = torch.device(\"cuda\" if torch.cuda.is_available() else \"cpu\")\n",
    "batch_size = 32\n",
    "train_dataloader = torch.utils.data.DataLoader(\n",
    "    datasets.FashionMNIST(\"./fashion_mnist_data\", train=True, download=True,\n",
    "           transform=transforms.Compose([\n",
    "               transforms.ToTensor(),\n",
    "               transforms.Normalize((0.1307,), (0.3081,))\n",
    "           ])),\n",
    "    batch_size=batch_size, shuffle=True, \n",
    "    num_workers=1, pin_memory=True\n",
    ")\n",
    "test_dataloader = torch.utils.data.DataLoader(\n",
    "    datasets.FashionMNIST(\"./fashion_mnist_data\", train=False, download=True,\n",
    "           transform=transforms.Compose([\n",
    "               transforms.ToTensor(),\n",
    "               transforms.Normalize((0.1307,), (0.3081,))\n",
    "           ])),\n",
    "    batch_size=batch_size, shuffle=True, \n",
    "    num_workers=1, pin_memory=True\n",
    ")\n",
    "\n",
    "lr = 0.01\n",
    "momentum  = 0.5\n",
    "model = Net().to(device)\n",
    "optimizer = torch.optim.SGD(model.parameters(), lr=lr, momentum=momentum)\n",
    "\n",
    "num_epochs = 2\n",
    "for epoch in range(num_epochs):\n",
    "    train(model, device, train_dataloader, optimizer, epoch)\n",
    "    test(model, device, test_dataloader)\n",
    "    \n",
    "torch.save(model.state_dict(), \"fashion_mnist_cnn.pt\")"
   ]
  },
  {
   "cell_type": "markdown",
   "metadata": {},
   "source": [
    "# CNN模型的迁移学习"
   ]
  },
  {
   "cell_type": "markdown",
   "metadata": {},
   "source": [
    "- 很多时候当我们需要训练一个新的图像分类任务，我们不会完全从一个随机的模型开始训练，而是利用_预训练_的模型来加速训练的过程。我们经常使用在`ImageNet`上的预训练模型。\n",
    "- 这是一种transfer learning的方法。我们常用以下两种方法做迁移学习。\n",
    "    - fine tuning: 从一个预训练模型开始，我们改变一些模型的架构，然后继续训练整个模型的参数。\n",
    "    - feature extraction: 我们不再改变预训练模型的参数，而是只更新我们改变过的部分模型参数。我们之所以叫它feature extraction是因为我们把预训练的CNN模型当做一个特征提取模型，利用提取出来的特征做来完成我们的训练任务。\n",
    "    \n",
    "以下是构建和训练迁移学习模型的基本步骤：\n",
    "- 初始化预训练模型\n",
    "- 把最后一层的输出层改变成我们想要分的类别总数\n",
    "- 定义一个optimizer来更新参数\n",
    "- 模型训练"
   ]
  },
  {
   "cell_type": "code",
   "execution_count": 31,
   "metadata": {},
   "outputs": [],
   "source": [
    "import numpy as np\n",
    "import torchvision\n",
    "from torchvision import datasets, transforms, models\n",
    "\n",
    "import matplotlib.pyplot as plt\n",
    "import time\n",
    "import os\n",
    "import copy\n",
    "#print(\"Torchvision Version: \",torchvision.__version__)"
   ]
  },
  {
   "cell_type": "markdown",
   "metadata": {},
   "source": [
    "数据\n",
    "------\n",
    "\n",
    "我们会使用*hymenoptera_data*数据集，[下载](https://download.pytorch.org/tutorial/hymenoptera_data.zip).\n",
    "\n",
    "这个数据集包括两类图片, **bees** 和 **ants**, 这些数据都被处理成了可以使用`ImageFolder <https://pytorch.org/docs/stable/torchvision/datasets.html#torchvision.datasets.ImageFolder>`来读取的格式。我们只需要把``data_dir``设置成数据的根目录，然后把``model_name``设置成我们想要使用的与训练模型：\n",
    "::\n",
    "   [resnet, alexnet, vgg, squeezenet, densenet, inception]\n",
    "\n",
    "其他的参数有：\n",
    "- ``num_classes``表示数据集分类的类别数\n",
    "- ``batch_size``\n",
    "- ``num_epochs``\n",
    "- ``feature_extract``表示我们训练的时候使用fine tuning还是feature extraction方法。如果``feature_extract = False``，整个模型都会被同时更新。如果``feature_extract = True``，只有模型的最后一层被更新。"
   ]
  },
  {
   "cell_type": "code",
   "execution_count": 34,
   "metadata": {},
   "outputs": [],
   "source": [
    "# Top level data directory. Here we assume the format of the directory conforms \n",
    "#   to the ImageFolder structure\n",
    "data_dir = \"./hymenoptera_data\"\n",
    "# Models to choose from [resnet, alexnet, vgg, squeezenet, densenet, inception]\n",
    "model_name = \"resnet\"\n",
    "# Number of classes in the dataset\n",
    "num_classes = 2\n",
    "# Batch size for training (change depending on how much memory you have)\n",
    "batch_size = 32\n",
    "# Number of epochs to train for \n",
    "num_epochs = 15\n",
    "# Flag for feature extracting. When False, we finetune the whole model, \n",
    "#   when True we only update the reshaped layer params\n",
    "feature_extract = True\n",
    "\n",
    "input_size = 224"
   ]
  },
  {
   "cell_type": "markdown",
   "metadata": {},
   "source": [
    "读入数据\n",
    "---------\n",
    "\n",
    "现在我们知道了模型输入的size，我们就可以把数据预处理成相应的格式。\n"
   ]
  },
  {
   "cell_type": "code",
   "execution_count": 58,
   "metadata": {},
   "outputs": [],
   "source": [
    "all_imgs = datasets.ImageFolder(os.path.join(data_dir, \"train\"), transforms.Compose([\n",
    "        transforms.RandomResizedCrop(input_size),\n",
    "        transforms.RandomHorizontalFlip(),\n",
    "        transforms.ToTensor(),\n",
    "    ]))\n",
    "loader = torch.utils.data.DataLoader(all_imgs, batch_size=batch_size, shuffle=True, num_workers=4)"
   ]
  },
  {
   "cell_type": "code",
   "execution_count": 67,
   "metadata": {},
   "outputs": [],
   "source": [
    "data_transforms = {\n",
    "    \"train\": transforms.Compose([\n",
    "        transforms.RandomResizedCrop(input_size),\n",
    "        transforms.RandomHorizontalFlip(),\n",
    "        transforms.ToTensor(),\n",
    "        transforms.Normalize([0.485, 0.456, 0.406], [0.229, 0.224, 0.225])\n",
    "    ]),\n",
    "    \"val\": transforms.Compose([\n",
    "        transforms.Resize(input_size),\n",
    "        transforms.CenterCrop(input_size),\n",
    "        transforms.ToTensor(),\n",
    "        transforms.Normalize([0.485, 0.456, 0.406], [0.229, 0.224, 0.225])\n",
    "    ])\n",
    "}\n",
    "\n",
    "image_datasets = {x: datasets.ImageFolder(os.path.join(data_dir, x), data_transforms[x]) for x in [\"train\", \"val\"]}\n",
    "\n",
    "dataloaders_dict = {x: torch.utils.data.DataLoader(image_datasets[x], \n",
    "        batch_size=batch_size, shuffle=True, num_workers=4) for x in [\"train\", \"val\"]}\n",
    "\n",
    "device = torch.device(\"cuda\" if torch.cuda.is_available() else \"cpu\")"
   ]
  },
  {
   "cell_type": "code",
   "execution_count": 68,
   "metadata": {},
   "outputs": [],
   "source": [
    "img = next(iter(dataloaders_dict[\"val\"]))[0]"
   ]
  },
  {
   "cell_type": "code",
   "execution_count": 69,
   "metadata": {},
   "outputs": [
    {
     "data": {
      "text/plain": [
       "torch.Size([32, 3, 224, 224])"
      ]
     },
     "execution_count": 69,
     "metadata": {},
     "output_type": "execute_result"
    }
   ],
   "source": [
    "img.shape"
   ]
  },
  {
   "cell_type": "code",
   "execution_count": 70,
   "metadata": {},
   "outputs": [
    {
     "data": {
      "image/png": "[encoded data removed]",
      "text/plain": [
       "<Figure size 432x288 with 1 Axes>"
      ]
     },
     "metadata": {
      "needs_background": "light"
     },
     "output_type": "display_data"
    }
   ],
   "source": [
    "unloader = transforms.ToPILImage()  # reconvert into PIL image\n",
    "plt.ion()\n",
    "\n",
    "def imshow(tensor, title=None):\n",
    "    image = tensor.cpu().clone()  # we clone the tensor to not do changes on it\n",
    "    image = image.squeeze(0)      # remove the fake batch dimension\n",
    "    image = unloader(image)\n",
    "    plt.imshow(image)\n",
    "    if title is not None:\n",
    "        plt.title(title)\n",
    "    plt.pause(0.001) # pause a bit so that plots are updated\n",
    "\n",
    "\n",
    "plt.figure()\n",
    "imshow(img[11], title='Image')\n"
   ]
  },
  {
   "cell_type": "code",
   "execution_count": 71,
   "metadata": {},
   "outputs": [
    {
     "name": "stderr",
     "output_type": "stream",
     "text": [
      "Downloading: \"https://download.pytorch.org/models/resnet18-5c106cde.pth\" to C:\\Users\\Administrator/.cache\\torch\\hub\\checkpoints\\resnet18-5c106cde.pth\n"
     ]
    },
    {
     "data": {
      "application/vnd.jupyter.widget-view+json": {
       "model_id": "ea2bf88809ae46b9a9aeccb76917df36",
       "version_major": 2,
       "version_minor": 0
      },
      "text/plain": [
       "HBox(children=(FloatProgress(value=0.0, max=46827520.0), HTML(value='')))"
      ]
     },
     "metadata": {},
     "output_type": "display_data"
    },
    {
     "name": "stdout",
     "output_type": "stream",
     "text": [
      "\n",
      "ResNet(\n",
      "  (conv1): Conv2d(3, 64, kernel_size=(7, 7), stride=(2, 2), padding=(3, 3), bias=False)\n",
      "  (bn1): BatchNorm2d(64, eps=1e-05, momentum=0.1, affine=True, track_running_stats=True)\n",
      "  (relu): ReLU(inplace=True)\n",
      "  (maxpool): MaxPool2d(kernel_size=3, stride=2, padding=1, dilation=1, ceil_mode=False)\n",
      "  (layer1): Sequential(\n",
      "    (0): BasicBlock(\n",
      "      (conv1): Conv2d(64, 64, kernel_size=(3, 3), stride=(1, 1), padding=(1, 1), bias=False)\n",
      "      (bn1): BatchNorm2d(64, eps=1e-05, momentum=0.1, affine=True, track_running_stats=True)\n",
      "      (relu): ReLU(inplace=True)\n",
      "      (conv2): Conv2d(64, 64, kernel_size=(3, 3), stride=(1, 1), padding=(1, 1), bias=False)\n",
      "      (bn2): BatchNorm2d(64, eps=1e-05, momentum=0.1, affine=True, track_running_stats=True)\n",
      "    )\n",
      "    (1): BasicBlock(\n",
      "      (conv1): Conv2d(64, 64, kernel_size=(3, 3), stride=(1, 1), padding=(1, 1), bias=False)\n",
      "      (bn1): BatchNorm2d(64, eps=1e-05, momentum=0.1, affine=True, track_running_stats=True)\n",
      "      (relu): ReLU(inplace=True)\n",
      "      (conv2): Conv2d(64, 64, kernel_size=(3, 3), stride=(1, 1), padding=(1, 1), bias=False)\n",
      "      (bn2): BatchNorm2d(64, eps=1e-05, momentum=0.1, affine=True, track_running_stats=True)\n",
      "    )\n",
      "  )\n",
      "  (layer2): Sequential(\n",
      "    (0): BasicBlock(\n",
      "      (conv1): Conv2d(64, 128, kernel_size=(3, 3), stride=(2, 2), padding=(1, 1), bias=False)\n",
      "      (bn1): BatchNorm2d(128, eps=1e-05, momentum=0.1, affine=True, track_running_stats=True)\n",
      "      (relu): ReLU(inplace=True)\n",
      "      (conv2): Conv2d(128, 128, kernel_size=(3, 3), stride=(1, 1), padding=(1, 1), bias=False)\n",
      "      (bn2): BatchNorm2d(128, eps=1e-05, momentum=0.1, affine=True, track_running_stats=True)\n",
      "      (downsample): Sequential(\n",
      "        (0): Conv2d(64, 128, kernel_size=(1, 1), stride=(2, 2), bias=False)\n",
      "        (1): BatchNorm2d(128, eps=1e-05, momentum=0.1, affine=True, track_running_stats=True)\n",
      "      )\n",
      "    )\n",
      "    (1): BasicBlock(\n",
      "      (conv1): Conv2d(128, 128, kernel_size=(3, 3), stride=(1, 1), padding=(1, 1), bias=False)\n",
      "      (bn1): BatchNorm2d(128, eps=1e-05, momentum=0.1, affine=True, track_running_stats=True)\n",
      "      (relu): ReLU(inplace=True)\n",
      "      (conv2): Conv2d(128, 128, kernel_size=(3, 3), stride=(1, 1), padding=(1, 1), bias=False)\n",
      "      (bn2): BatchNorm2d(128, eps=1e-05, momentum=0.1, affine=True, track_running_stats=True)\n",
      "    )\n",
      "  )\n",
      "  (layer3): Sequential(\n",
      "    (0): BasicBlock(\n",
      "      (conv1): Conv2d(128, 256, kernel_size=(3, 3), stride=(2, 2), padding=(1, 1), bias=False)\n",
      "      (bn1): BatchNorm2d(256, eps=1e-05, momentum=0.1, affine=True, track_running_stats=True)\n",
      "      (relu): ReLU(inplace=True)\n",
      "      (conv2): Conv2d(256, 256, kernel_size=(3, 3), stride=(1, 1), padding=(1, 1), bias=False)\n",
      "      (bn2): BatchNorm2d(256, eps=1e-05, momentum=0.1, affine=True, track_running_stats=True)\n",
      "      (downsample): Sequential(\n",
      "        (0): Conv2d(128, 256, kernel_size=(1, 1), stride=(2, 2), bias=False)\n",
      "        (1): BatchNorm2d(256, eps=1e-05, momentum=0.1, affine=True, track_running_stats=True)\n",
      "      )\n",
      "    )\n",
      "    (1): BasicBlock(\n",
      "      (conv1): Conv2d(256, 256, kernel_size=(3, 3), stride=(1, 1), padding=(1, 1), bias=False)\n",
      "      (bn1): BatchNorm2d(256, eps=1e-05, momentum=0.1, affine=True, track_running_stats=True)\n",
      "      (relu): ReLU(inplace=True)\n",
      "      (conv2): Conv2d(256, 256, kernel_size=(3, 3), stride=(1, 1), padding=(1, 1), bias=False)\n",
      "      (bn2): BatchNorm2d(256, eps=1e-05, momentum=0.1, affine=True, track_running_stats=True)\n",
      "    )\n",
      "  )\n",
      "  (layer4): Sequential(\n",
      "    (0): BasicBlock(\n",
      "      (conv1): Conv2d(256, 512, kernel_size=(3, 3), stride=(2, 2), padding=(1, 1), bias=False)\n",
      "      (bn1): BatchNorm2d(512, eps=1e-05, momentum=0.1, affine=True, track_running_stats=True)\n",
      "      (relu): ReLU(inplace=True)\n",
      "      (conv2): Conv2d(512, 512, kernel_size=(3, 3), stride=(1, 1), padding=(1, 1), bias=False)\n",
      "      (bn2): BatchNorm2d(512, eps=1e-05, momentum=0.1, affine=True, track_running_stats=True)\n",
      "      (downsample): Sequential(\n",
      "        (0): Conv2d(256, 512, kernel_size=(1, 1), stride=(2, 2), bias=False)\n",
      "        (1): BatchNorm2d(512, eps=1e-05, momentum=0.1, affine=True, track_running_stats=True)\n",
      "      )\n",
      "    )\n",
      "    (1): BasicBlock(\n",
      "      (conv1): Conv2d(512, 512, kernel_size=(3, 3), stride=(1, 1), padding=(1, 1), bias=False)\n",
      "      (bn1): BatchNorm2d(512, eps=1e-05, momentum=0.1, affine=True, track_running_stats=True)\n",
      "      (relu): ReLU(inplace=True)\n",
      "      (conv2): Conv2d(512, 512, kernel_size=(3, 3), stride=(1, 1), padding=(1, 1), bias=False)\n",
      "      (bn2): BatchNorm2d(512, eps=1e-05, momentum=0.1, affine=True, track_running_stats=True)\n",
      "    )\n",
      "  )\n",
      "  (avgpool): AdaptiveAvgPool2d(output_size=(1, 1))\n",
      "  (fc): Linear(in_features=512, out_features=2, bias=True)\n",
      ")\n"
     ]
    }
   ],
   "source": [
    "def set_parameter_requires_grad(model, feature_extract):\n",
    "    if feature_extract:\n",
    "        for param in model.parameters():\n",
    "            param.requires_grad = False\n",
    "            \n",
    "def initialize_model(model_name, num_classes, feature_extract, use_pretrained=True):\n",
    "    if model_name == \"resnet\":\n",
    "        model_ft = models.resnet18(pretrained=use_pretrained)\n",
    "        set_parameter_requires_grad(model_ft, feature_extract)\n",
    "        num_ftrs = model_ft.fc.in_features\n",
    "        model_ft.fc = nn.Linear(num_ftrs, num_classes)\n",
    "        input_size = 224\n",
    "    else:\n",
    "        print(\"model not implemented\")\n",
    "        return None, None\n",
    "        \n",
    "    return model_ft, input_size\n",
    "\n",
    "model_ft, input_size = initialize_model(model_name, \n",
    "                    num_classes, feature_extract, use_pretrained=True)\n",
    "print(model_ft)\n",
    "        \n",
    "        "
   ]
  },
  {
   "cell_type": "code",
   "execution_count": 72,
   "metadata": {},
   "outputs": [
    {
     "data": {
      "text/plain": [
       "False"
      ]
     },
     "execution_count": 72,
     "metadata": {},
     "output_type": "execute_result"
    }
   ],
   "source": [
    "model_ft.layer1[0].conv1.weight.requires_grad"
   ]
  },
  {
   "cell_type": "code",
   "execution_count": 73,
   "metadata": {},
   "outputs": [
    {
     "data": {
      "text/plain": [
       "True"
      ]
     },
     "execution_count": 73,
     "metadata": {},
     "output_type": "execute_result"
    }
   ],
   "source": [
    "model_ft.fc.weight.requires_grad"
   ]
  },
  {
   "cell_type": "code",
   "execution_count": 74,
   "metadata": {},
   "outputs": [],
   "source": [
    "def train_model(model, dataloaders, loss_fn, optimizer, num_epochs=5):\n",
    "    best_model_wts = copy.deepcopy(model.state_dict())\n",
    "    best_acc = 0.\n",
    "    val_acc_history = []\n",
    "    for epoch in range(num_epochs):\n",
    "        for phase in [\"train\", \"val\"]:\n",
    "            running_loss = 0.\n",
    "            running_corrects = 0.\n",
    "            if phase == \"train\":\n",
    "                model.train()\n",
    "            else:\n",
    "                model.eval()\n",
    "                \n",
    "            for inputs, labels in dataloaders[phase]:\n",
    "                inputs, labels = inputs.to(device), labels.to(device)\n",
    "                \n",
    "                with torch.autograd.set_grad_enabled(phase==\"train\"):\n",
    "                    outputs = model(inputs) # bsize * 2\n",
    "                    loss = loss_fn(outputs, labels) \n",
    "                    \n",
    "                preds = outputs.argmax(dim=1)\n",
    "                if phase == \"train\":\n",
    "                    optimizer.zero_grad()\n",
    "                    loss.backward()\n",
    "                    optimizer.step()\n",
    "                running_loss += loss.item() * inputs.size(0)\n",
    "                running_corrects += torch.sum(preds.view(-1) == labels.view(-1)).item()\n",
    "                \n",
    "            epoch_loss = running_loss / len(dataloaders[phase].dataset)\n",
    "            epoch_acc = running_corrects / len(dataloaders[phase].dataset)\n",
    "            \n",
    "            print(\"Phase {} loss: {}, acc: {}\".format(phase, epoch_loss, epoch_acc))\n",
    "            \n",
    "            if phase == \"val\" and epoch_acc > best_acc:\n",
    "                best_acc = epoch_acc\n",
    "                best_model_wts = copy.deepcopy(model.state_dict())\n",
    "            if phase == \"val\":\n",
    "                val_acc_history.append(epoch_acc)\n",
    "    model.load_state_dict(best_model_wts)    \n",
    "    return model, val_acc_history"
   ]
  },
  {
   "cell_type": "markdown",
   "metadata": {},
   "source": [
    "模型训练"
   ]
  },
  {
   "cell_type": "code",
   "execution_count": 75,
   "metadata": {},
   "outputs": [],
   "source": [
    "model_ft = model_ft.to(device)"
   ]
  },
  {
   "cell_type": "code",
   "execution_count": 76,
   "metadata": {},
   "outputs": [],
   "source": [
    "optimizer = torch.optim.SGD(filter(lambda p: p.requires_grad, \n",
    "                                   model_ft.parameters()), lr=0.001, momentum=0.9)\n",
    "loss_fn = nn.CrossEntropyLoss()\n"
   ]
  },
  {
   "cell_type": "code",
   "execution_count": 77,
   "metadata": {
    "scrolled": true
   },
   "outputs": [
    {
     "name": "stdout",
     "output_type": "stream",
     "text": [
      "Phase train loss: 0.7102823550583887, acc: 0.5122950819672131\n",
      "Phase val loss: 0.6167853034399693, acc: 0.673202614379085\n",
      "Phase train loss: 0.5291582648871375, acc: 0.7581967213114754\n",
      "Phase val loss: 0.4445287540457607, acc: 0.869281045751634\n",
      "Phase train loss: 0.39397131908135335, acc: 0.8770491803278688\n",
      "Phase val loss: 0.3422904534667146, acc: 0.8888888888888888\n",
      "Phase train loss: 0.2889887834670114, acc: 0.9221311475409836\n",
      "Phase val loss: 0.28485606562078386, acc: 0.8954248366013072\n",
      "Phase train loss: 0.27274238574700277, acc: 0.9180327868852459\n",
      "Phase val loss: 0.26503405306074357, acc: 0.9084967320261438\n",
      "Phase train loss: 0.27219083270088573, acc: 0.9098360655737705\n",
      "Phase val loss: 0.244617571335992, acc: 0.9084967320261438\n",
      "Phase train loss: 0.21391430106319365, acc: 0.9344262295081968\n",
      "Phase val loss: 0.24127154587920197, acc: 0.9019607843137255\n",
      "Phase train loss: 0.21576206068523596, acc: 0.9139344262295082\n",
      "Phase val loss: 0.22655513911854988, acc: 0.934640522875817\n",
      "Phase train loss: 0.23819340447910498, acc: 0.9098360655737705\n",
      "Phase val loss: 0.2244302717104457, acc: 0.9281045751633987\n",
      "Phase train loss: 0.23997769981134134, acc: 0.8975409836065574\n",
      "Phase val loss: 0.22765556406351475, acc: 0.9019607843137255\n",
      "Phase train loss: 0.18921240406935333, acc: 0.9262295081967213\n",
      "Phase val loss: 0.2232824363350089, acc: 0.9150326797385621\n",
      "Phase train loss: 0.21354979911788566, acc: 0.9262295081967213\n",
      "Phase val loss: 0.21567079502772663, acc: 0.9215686274509803\n",
      "Phase train loss: 0.19273697426084613, acc: 0.9385245901639344\n",
      "Phase val loss: 0.22130563465598363, acc: 0.9150326797385621\n",
      "Phase train loss: 0.18952538048634765, acc: 0.9385245901639344\n",
      "Phase val loss: 0.22906004622870801, acc: 0.9215686274509803\n",
      "Phase train loss: 0.21873641893511914, acc: 0.9139344262295082\n",
      "Phase val loss: 0.2103155229021521, acc: 0.9215686274509803\n"
     ]
    }
   ],
   "source": [
    "_, ohist = train_model(model_ft, dataloaders_dict, loss_fn, optimizer, num_epochs=num_epochs)"
   ]
  },
  {
   "cell_type": "code",
   "execution_count": 78,
   "metadata": {},
   "outputs": [
    {
     "name": "stdout",
     "output_type": "stream",
     "text": [
      "Phase train loss: 0.6921622616345765, acc: 0.5286885245901639\n",
      "Phase val loss: 0.683220283268324, acc: 0.5555555555555556\n",
      "Phase train loss: 0.682041944050398, acc: 0.5819672131147541\n",
      "Phase val loss: 0.687527112321916, acc: 0.5098039215686274\n",
      "Phase train loss: 0.6466489688294833, acc: 0.6270491803278688\n",
      "Phase val loss: 0.6586243370000053, acc: 0.6143790849673203\n",
      "Phase train loss: 0.6284444390750322, acc: 0.6065573770491803\n",
      "Phase val loss: 0.6373285592771044, acc: 0.6470588235294118\n",
      "Phase train loss: 0.6021207864167261, acc: 0.6762295081967213\n",
      "Phase val loss: 0.6175473616793264, acc: 0.6535947712418301\n",
      "Phase train loss: 0.6068579603414066, acc: 0.6229508196721312\n",
      "Phase val loss: 0.5911991935150296, acc: 0.6928104575163399\n",
      "Phase train loss: 0.5930257166018251, acc: 0.6762295081967213\n",
      "Phase val loss: 0.5935610618466646, acc: 0.6862745098039216\n",
      "Phase train loss: 0.5840258852380221, acc: 0.6844262295081968\n",
      "Phase val loss: 0.6021429428867265, acc: 0.6862745098039216\n",
      "Phase train loss: 0.5757499557049548, acc: 0.680327868852459\n",
      "Phase val loss: 0.5550740349526498, acc: 0.7058823529411765\n",
      "Phase train loss: 0.5246760473876703, acc: 0.7336065573770492\n",
      "Phase val loss: 0.544422728173873, acc: 0.6993464052287581\n",
      "Phase train loss: 0.4999541483941625, acc: 0.7295081967213115\n",
      "Phase val loss: 0.5822779440801907, acc: 0.6797385620915033\n",
      "Phase train loss: 0.5073613226413727, acc: 0.7581967213114754\n",
      "Phase val loss: 0.6227986660658145, acc: 0.6993464052287581\n",
      "Phase train loss: 0.5251845302151852, acc: 0.7295081967213115\n",
      "Phase val loss: 0.5627995715811361, acc: 0.738562091503268\n",
      "Phase train loss: 0.46843487952576307, acc: 0.7418032786885246\n",
      "Phase val loss: 0.60297850300284, acc: 0.7058823529411765\n",
      "Phase train loss: 0.5096112093964561, acc: 0.7377049180327869\n",
      "Phase val loss: 0.5781132360689001, acc: 0.6928104575163399\n"
     ]
    }
   ],
   "source": [
    "model_scratch, _ = initialize_model(model_name, \n",
    "                    num_classes, feature_extract=False, use_pretrained=False)\n",
    "model_scratch = model_scratch.to(device)\n",
    "optimizer = torch.optim.SGD(filter(lambda p: p.requires_grad, \n",
    "                                   model_scratch.parameters()), lr=0.001, momentum=0.9)\n",
    "loss_fn = nn.CrossEntropyLoss()\n",
    "_, scratch_hist = train_model(model_scratch, dataloaders_dict, loss_fn, optimizer, num_epochs=num_epochs)"
   ]
  },
  {
   "cell_type": "markdown",
   "metadata": {},
   "source": [
    "我们来plot模型训练时候loss的变化"
   ]
  },
  {
   "cell_type": "code",
   "execution_count": 79,
   "metadata": {
    "scrolled": true
   },
   "outputs": [
    {
     "data": {
      "image/png": "[encoded data removed]",
      "text/plain": [
       "<Figure size 432x288 with 1 Axes>"
      ]
     },
     "metadata": {
      "needs_background": "light"
     },
     "output_type": "display_data"
    }
   ],
   "source": [
    "\n",
    "# Plot the training curves of validation accuracy vs. number \n",
    "#  of training epochs for the transfer learning method and\n",
    "#  the model trained from scratch\n",
    "\n",
    "plt.title(\"Validation Accuracy vs. Number of Training Epochs\")\n",
    "plt.xlabel(\"Training Epochs\")\n",
    "plt.ylabel(\"Validation Accuracy\")\n",
    "plt.plot(range(1,num_epochs+1),ohist,label=\"Pretrained\")\n",
    "plt.plot(range(1,num_epochs+1),scratch_hist,label=\"Scratch\")\n",
    "plt.ylim((0,1.))\n",
    "plt.xticks(np.arange(1, num_epochs+1, 1.0))\n",
    "plt.legend()\n",
    "plt.show()"
   ]
  },
  {
   "cell_type": "markdown",
   "metadata": {},
   "source": [
    "### 课后学习"
   ]
  },
  {
   "cell_type": "markdown",
   "metadata": {},
   "source": [
    "- [BERT](https://github.com/huggingface/pytorch-pretrained-BERT)\n",
    "- [ElMo](https://github.com/allenai/allennlp/blob/master/allennlp/modules/elmo.py)\n",
    "- [Torch Vision Models](https://github.com/pytorch/vision/tree/master/torchvision/models)"
   ]
  }
 ],
 "metadata": {
  "kernelspec": {
   "display_name": "mypython36",
   "language": "python",
   "name": "mypython36"
  },
  "language_info": {
   "codemirror_mode": {
    "name": "ipython",
    "version": 3
   },
   "file_extension": ".py",
   "mimetype": "text/x-python",
   "name": "python",
   "nbconvert_exporter": "python",
   "pygments_lexer": "ipython3",
   "version": "3.6.3"
  }
 },
 "nbformat": 4,
 "nbformat_minor": 2
}
